{
 "cells": [
  {
   "cell_type": "code",
   "execution_count": 1,
   "id": "22b5d833",
   "metadata": {},
   "outputs": [
    {
     "name": "stdout",
     "output_type": "stream",
     "text": [
      "Requirement already satisfied: yfinance in c:\\users\\as\\anaconda3\\lib\\site-packages (0.2.33)\n",
      "Requirement already satisfied: pandas>=1.3.0 in c:\\users\\as\\anaconda3\\lib\\site-packages (from yfinance) (2.0.3)\n",
      "Requirement already satisfied: numpy>=1.16.5 in c:\\users\\as\\anaconda3\\lib\\site-packages (from yfinance) (1.24.3)\n",
      "Requirement already satisfied: requests>=2.31 in c:\\users\\as\\anaconda3\\lib\\site-packages (from yfinance) (2.31.0)\n",
      "Requirement already satisfied: multitasking>=0.0.7 in c:\\users\\as\\anaconda3\\lib\\site-packages (from yfinance) (0.0.11)\n",
      "Requirement already satisfied: lxml>=4.9.1 in c:\\users\\as\\anaconda3\\lib\\site-packages (from yfinance) (4.9.3)\n",
      "Requirement already satisfied: appdirs>=1.4.4 in c:\\users\\as\\anaconda3\\lib\\site-packages (from yfinance) (1.4.4)\n",
      "Requirement already satisfied: pytz>=2022.5 in c:\\users\\as\\anaconda3\\lib\\site-packages (from yfinance) (2023.3.post1)\n",
      "Requirement already satisfied: frozendict>=2.3.4 in c:\\users\\as\\anaconda3\\lib\\site-packages (from yfinance) (2.3.10)\n",
      "Requirement already satisfied: peewee>=3.16.2 in c:\\users\\as\\anaconda3\\lib\\site-packages (from yfinance) (3.17.0)\n",
      "Requirement already satisfied: beautifulsoup4>=4.11.1 in c:\\users\\as\\anaconda3\\lib\\site-packages (from yfinance) (4.12.2)\n",
      "Requirement already satisfied: html5lib>=1.1 in c:\\users\\as\\anaconda3\\lib\\site-packages (from yfinance) (1.1)\n",
      "Requirement already satisfied: soupsieve>1.2 in c:\\users\\as\\anaconda3\\lib\\site-packages (from beautifulsoup4>=4.11.1->yfinance) (2.4)\n",
      "Requirement already satisfied: six>=1.9 in c:\\users\\as\\anaconda3\\lib\\site-packages (from html5lib>=1.1->yfinance) (1.16.0)\n",
      "Requirement already satisfied: webencodings in c:\\users\\as\\anaconda3\\lib\\site-packages (from html5lib>=1.1->yfinance) (0.5.1)\n",
      "Requirement already satisfied: python-dateutil>=2.8.2 in c:\\users\\as\\anaconda3\\lib\\site-packages (from pandas>=1.3.0->yfinance) (2.8.2)\n",
      "Requirement already satisfied: tzdata>=2022.1 in c:\\users\\as\\anaconda3\\lib\\site-packages (from pandas>=1.3.0->yfinance) (2023.3)\n",
      "Requirement already satisfied: charset-normalizer<4,>=2 in c:\\users\\as\\anaconda3\\lib\\site-packages (from requests>=2.31->yfinance) (2.0.4)\n",
      "Requirement already satisfied: idna<4,>=2.5 in c:\\users\\as\\anaconda3\\lib\\site-packages (from requests>=2.31->yfinance) (3.4)\n",
      "Requirement already satisfied: urllib3<3,>=1.21.1 in c:\\users\\as\\anaconda3\\lib\\site-packages (from requests>=2.31->yfinance) (1.26.16)\n",
      "Requirement already satisfied: certifi>=2017.4.17 in c:\\users\\as\\anaconda3\\lib\\site-packages (from requests>=2.31->yfinance) (2023.7.22)\n",
      "Requirement already satisfied: matplotlib in c:\\users\\as\\anaconda3\\lib\\site-packages (3.7.2)\n",
      "Requirement already satisfied: contourpy>=1.0.1 in c:\\users\\as\\anaconda3\\lib\\site-packages (from matplotlib) (1.0.5)\n",
      "Requirement already satisfied: cycler>=0.10 in c:\\users\\as\\anaconda3\\lib\\site-packages (from matplotlib) (0.11.0)\n",
      "Requirement already satisfied: fonttools>=4.22.0 in c:\\users\\as\\anaconda3\\lib\\site-packages (from matplotlib) (4.25.0)\n",
      "Requirement already satisfied: kiwisolver>=1.0.1 in c:\\users\\as\\anaconda3\\lib\\site-packages (from matplotlib) (1.4.4)\n",
      "Requirement already satisfied: numpy>=1.20 in c:\\users\\as\\anaconda3\\lib\\site-packages (from matplotlib) (1.24.3)\n",
      "Requirement already satisfied: packaging>=20.0 in c:\\users\\as\\anaconda3\\lib\\site-packages (from matplotlib) (23.1)\n",
      "Requirement already satisfied: pillow>=6.2.0 in c:\\users\\as\\anaconda3\\lib\\site-packages (from matplotlib) (9.4.0)\n",
      "Requirement already satisfied: pyparsing<3.1,>=2.3.1 in c:\\users\\as\\anaconda3\\lib\\site-packages (from matplotlib) (3.0.9)\n",
      "Requirement already satisfied: python-dateutil>=2.7 in c:\\users\\as\\anaconda3\\lib\\site-packages (from matplotlib) (2.8.2)\n",
      "Requirement already satisfied: six>=1.5 in c:\\users\\as\\anaconda3\\lib\\site-packages (from python-dateutil>=2.7->matplotlib) (1.16.0)\n"
     ]
    }
   ],
   "source": [
    "!pip install yfinance\n",
    "!pip install matplotlib"
   ]
  },
  {
   "cell_type": "code",
   "execution_count": 2,
   "id": "42782d28",
   "metadata": {},
   "outputs": [],
   "source": [
    "import yfinance as yf\n",
    "import matplotlib.pyplot as plt"
   ]
  },
  {
   "cell_type": "code",
   "execution_count": 3,
   "id": "e1fa004c",
   "metadata": {},
   "outputs": [],
   "source": [
    "TW1103 = yf.Ticker(\"1103.TW\")"
   ]
  },
  {
   "cell_type": "code",
   "execution_count": 4,
   "id": "a8f70d23",
   "metadata": {},
   "outputs": [
    {
     "data": {
      "text/plain": [
       "{'address1': 'No.96, Zhongshan North Road',\n",
       " 'address2': 'Section 2 Zhongshan District',\n",
       " 'city': 'Taipei',\n",
       " 'zip': '104',\n",
       " 'country': 'Taiwan',\n",
       " 'phone': '886 2 2551 5211',\n",
       " 'fax': '886 2 2581 8320',\n",
       " 'website': 'https://www.chcgroup.com.tw',\n",
       " 'industry': 'Building Materials',\n",
       " 'industryKey': 'building-materials',\n",
       " 'industryDisp': 'Building Materials',\n",
       " 'sector': 'Basic Materials',\n",
       " 'sectorKey': 'basic-materials',\n",
       " 'sectorDisp': 'Basic Materials',\n",
       " 'longBusinessSummary': \"Chia Hsin Cement Corporation engages in the manufacture and sale of cement in Taiwan and internationally. The company's activities include the wholesale and retail sale of building materials; non-metallic mining; manufacturing of mixed concrete; international trade; leasing, construction, and development of residences and buildings, and industrial factory buildings; real estate commerce; real estate rental and leasing; reconstruction within the renewal area; warehousing and storage; healthcare; fitness and training; manufacturing of beverages and bakery products; hotel management; and energy technology services. Chia Hsin Cement Corporation was incorporated in 1954 and is based in Taipei, Taiwan.\",\n",
       " 'companyOfficers': [{'maxAge': 1,\n",
       "   'name': 'Ms. Li-Hsin  Wang',\n",
       "   'age': 50,\n",
       "   'title': 'Pres., Exec. VP, CEO of HO, Chief Off. of Corp. Gov., Chief Sstnblty. Off. & Chief Info. Sec. off.',\n",
       "   'yearBorn': 1973,\n",
       "   'exercisedValue': 0,\n",
       "   'unexercisedValue': 0},\n",
       "  {'maxAge': 1,\n",
       "   'name': 'Ms. Yueh-Chen  Chou',\n",
       "   'title': 'Finance Officer',\n",
       "   'exercisedValue': 0,\n",
       "   'unexercisedValue': 0},\n",
       "  {'maxAge': 1,\n",
       "   'name': 'Ms. Mars  Feng',\n",
       "   'title': 'Accounting Officer',\n",
       "   'exercisedValue': 0,\n",
       "   'unexercisedValue': 0}],\n",
       " 'maxAge': 86400,\n",
       " 'priceHint': 2,\n",
       " 'previousClose': 18.7,\n",
       " 'open': 18.8,\n",
       " 'dayLow': 18.7,\n",
       " 'dayHigh': 18.8,\n",
       " 'regularMarketPreviousClose': 18.7,\n",
       " 'regularMarketOpen': 18.8,\n",
       " 'regularMarketDayLow': 18.7,\n",
       " 'regularMarketDayHigh': 18.8,\n",
       " 'dividendRate': 0.3,\n",
       " 'dividendYield': 0.016,\n",
       " 'exDividendDate': 1690416000,\n",
       " 'payoutRatio': 1.13,\n",
       " 'fiveYearAvgDividendYield': 4.7,\n",
       " 'beta': 0.655,\n",
       " 'trailingPE': 69.44444,\n",
       " 'forwardPE': 43.60465,\n",
       " 'volume': 129805,\n",
       " 'regularMarketVolume': 129805,\n",
       " 'averageVolume': 217708,\n",
       " 'averageVolume10days': 162293,\n",
       " 'averageDailyVolume10Day': 162293,\n",
       " 'bid': 18.7,\n",
       " 'ask': 18.75,\n",
       " 'bidSize': 0,\n",
       " 'askSize': 0,\n",
       " 'marketCap': 12354263040,\n",
       " 'fiftyTwoWeekLow': 17.107843,\n",
       " 'fiftyTwoWeekHigh': 23.333332,\n",
       " 'priceToSalesTrailing12Months': 4.4518795,\n",
       " 'fiftyDayAverage': 18.771,\n",
       " 'twoHundredDayAverage': 19.406343,\n",
       " 'trailingAnnualDividendRate': 0.294,\n",
       " 'trailingAnnualDividendYield': 0.015721925,\n",
       " 'currency': 'TWD',\n",
       " 'enterpriseValue': 14608520192,\n",
       " 'profitMargins': 0.061279997,\n",
       " 'floatShares': 333181061,\n",
       " 'sharesOutstanding': 658894016,\n",
       " 'heldPercentInsiders': 0.47043,\n",
       " 'heldPercentInstitutions': 0.03276,\n",
       " 'impliedSharesOutstanding': 662494976,\n",
       " 'bookValue': 32.161,\n",
       " 'priceToBook': 0.5830043,\n",
       " 'lastFiscalYearEnd': 1672444800,\n",
       " 'nextFiscalYearEnd': 1703980800,\n",
       " 'mostRecentQuarter': 1696032000,\n",
       " 'earningsQuarterlyGrowth': -0.558,\n",
       " 'netIncomeToCommon': 170066000,\n",
       " 'trailingEps': 0.27,\n",
       " 'forwardEps': 0.43,\n",
       " 'lastSplitFactor': '1020:1000',\n",
       " 'lastSplitDate': 1690416000,\n",
       " 'enterpriseToRevenue': 5.264,\n",
       " 'enterpriseToEbitda': 95.595,\n",
       " '52WeekChange': 0.08375001,\n",
       " 'SandP52WeekChange': 0.20374417,\n",
       " 'lastDividendValue': 0.3,\n",
       " 'lastDividendDate': 1690416000,\n",
       " 'exchange': 'TAI',\n",
       " 'quoteType': 'EQUITY',\n",
       " 'symbol': '1103.TW',\n",
       " 'underlyingSymbol': '1103.TW',\n",
       " 'shortName': 'CHIA HSIN CEMENT CORPORATION',\n",
       " 'longName': 'Chia Hsin Cement Corporation',\n",
       " 'firstTradeDateEpochUtc': 946947600,\n",
       " 'timeZoneFullName': 'Asia/Taipei',\n",
       " 'timeZoneShortName': 'CST',\n",
       " 'uuid': 'fc4df25d-839d-3ed1-996f-ef4791a26456',\n",
       " 'messageBoardId': 'finmb_880515',\n",
       " 'gmtOffSetMilliseconds': 28800000,\n",
       " 'currentPrice': 18.75,\n",
       " 'recommendationKey': 'none',\n",
       " 'totalCash': 9992482816,\n",
       " 'totalCashPerShare': 15.107,\n",
       " 'ebitda': 152816000,\n",
       " 'totalDebt': 11511400448,\n",
       " 'quickRatio': 2.841,\n",
       " 'currentRatio': 2.925,\n",
       " 'totalRevenue': 2775066880,\n",
       " 'debtToEquity': 52.341,\n",
       " 'revenuePerShare': 4.212,\n",
       " 'returnOnAssets': -0.00342,\n",
       " 'returnOnEquity': 0.00836,\n",
       " 'grossProfits': 132586000,\n",
       " 'freeCashflow': 183489504,\n",
       " 'operatingCashflow': -232971008,\n",
       " 'earningsGrowth': -0.554,\n",
       " 'revenueGrowth': 0.304,\n",
       " 'grossMargins': 0.11776,\n",
       " 'ebitdaMargins': 0.055069998,\n",
       " 'operatingMargins': -0.03616,\n",
       " 'financialCurrency': 'TWD',\n",
       " 'trailingPegRatio': None}"
      ]
     },
     "execution_count": 4,
     "metadata": {},
     "output_type": "execute_result"
    }
   ],
   "source": [
    "TW1103.info"
   ]
  },
  {
   "cell_type": "code",
   "execution_count": 5,
   "id": "781a9051",
   "metadata": {},
   "outputs": [],
   "source": [
    "TW1104 = yf.Ticker(\"1104.TW\")"
   ]
  },
  {
   "cell_type": "code",
   "execution_count": 6,
   "id": "571cc7b5",
   "metadata": {},
   "outputs": [
    {
     "data": {
      "text/plain": [
       "{'address1': 'No. 125, Nanjing East Road',\n",
       " 'address2': '10th Floor Section 2 Zhongshan District',\n",
       " 'city': 'Taipei',\n",
       " 'country': 'Taiwan',\n",
       " 'phone': '886 2 2507 7801',\n",
       " 'fax': '886 2 2507 5870',\n",
       " 'website': 'https://www.ucctw.com',\n",
       " 'industry': 'Building Materials',\n",
       " 'industryKey': 'building-materials',\n",
       " 'industryDisp': 'Building Materials',\n",
       " 'sector': 'Basic Materials',\n",
       " 'sectorKey': 'basic-materials',\n",
       " 'sectorDisp': 'Basic Materials',\n",
       " 'longBusinessSummary': 'Universal Cement Corporation, together with its subsidiaries, engages in the manufacture and sale of cement, ready-mixed concrete, gypsum board panels, and other building materials in Taiwan. It operates through Building Materials Business and Assets Management Center segments. The company also offers pressure-sensing electronic technology products, such as flexible electronic pressure sensors, pressure sensor modules, and flexible microelectromechanical pressure sensing instruments for use in computer, communication and consumer electronics, industrial and semiconductor equipment, smart warehouse, and medical monitoring industries. Universal Cement Corporation was founded in 1959 and is headquartered in Taipei, Taiwan.',\n",
       " 'companyOfficers': [{'maxAge': 1,\n",
       "   'name': 'Dr. Chih-Sheng  Hou',\n",
       "   'title': 'GM, President & Director',\n",
       "   'fiscalYear': 2021,\n",
       "   'totalPay': 11620000,\n",
       "   'exercisedValue': 0,\n",
       "   'unexercisedValue': 0},\n",
       "  {'maxAge': 1,\n",
       "   'name': 'Ms. Pei-Hsin  Tseng',\n",
       "   'title': 'Director of Accounting Division',\n",
       "   'fiscalYear': 2021,\n",
       "   'exercisedValue': 0,\n",
       "   'unexercisedValue': 0},\n",
       "  {'maxAge': 1,\n",
       "   'name': 'Ms. Hai-Wei  Chiang',\n",
       "   'title': 'Chief of Auditing',\n",
       "   'fiscalYear': 2021,\n",
       "   'exercisedValue': 0,\n",
       "   'unexercisedValue': 0},\n",
       "  {'maxAge': 1,\n",
       "   'name': 'Mr. Shih-Kue  Chou',\n",
       "   'title': 'Chief Supervisor of Ready-mixed Concrete Division',\n",
       "   'fiscalYear': 2021,\n",
       "   'exercisedValue': 0,\n",
       "   'unexercisedValue': 0}],\n",
       " 'compensationAsOfEpochDate': 1640908800,\n",
       " 'maxAge': 86400,\n",
       " 'priceHint': 2,\n",
       " 'previousClose': 29.1,\n",
       " 'open': 29.2,\n",
       " 'dayLow': 29.2,\n",
       " 'dayHigh': 29.55,\n",
       " 'regularMarketPreviousClose': 29.1,\n",
       " 'regularMarketOpen': 29.2,\n",
       " 'regularMarketDayLow': 29.2,\n",
       " 'regularMarketDayHigh': 29.55,\n",
       " 'dividendRate': 1.5,\n",
       " 'dividendYield': 0.0508,\n",
       " 'exDividendDate': 1689897600,\n",
       " 'payoutRatio': 0.45049998,\n",
       " 'fiveYearAvgDividendYield': 5.0,\n",
       " 'beta': 0.563,\n",
       " 'trailingPE': 8.936171,\n",
       " 'forwardPE': 10.388693,\n",
       " 'volume': 772487,\n",
       " 'regularMarketVolume': 772487,\n",
       " 'averageVolume': 836697,\n",
       " 'averageVolume10days': 669733,\n",
       " 'averageDailyVolume10Day': 669733,\n",
       " 'bid': 29.3,\n",
       " 'ask': 29.4,\n",
       " 'marketCap': 20064647168,\n",
       " 'fiftyTwoWeekLow': 21.553398,\n",
       " 'fiftyTwoWeekHigh': 30.970873,\n",
       " 'priceToSalesTrailing12Months': 2.6332958,\n",
       " 'fiftyDayAverage': 28.249,\n",
       " 'twoHundredDayAverage': 27.859056,\n",
       " 'trailingAnnualDividendRate': 1.456,\n",
       " 'trailingAnnualDividendYield': 0.050034363,\n",
       " 'currency': 'TWD',\n",
       " 'enterpriseValue': 19100751872,\n",
       " 'profitMargins': 0.29563,\n",
       " 'floatShares': 403856146,\n",
       " 'sharesOutstanding': 673217024,\n",
       " 'heldPercentInsiders': 0.39699,\n",
       " 'heldPercentInstitutions': 0.14525,\n",
       " 'impliedSharesOutstanding': 682470976,\n",
       " 'bookValue': 32.658,\n",
       " 'priceToBook': 0.9002388,\n",
       " 'lastFiscalYearEnd': 1672444800,\n",
       " 'nextFiscalYearEnd': 1703980800,\n",
       " 'mostRecentQuarter': 1696032000,\n",
       " 'earningsQuarterlyGrowth': 1.316,\n",
       " 'netIncomeToCommon': 2252614912,\n",
       " 'trailingEps': 3.29,\n",
       " 'forwardEps': 2.83,\n",
       " 'lastSplitFactor': '1030:1000',\n",
       " 'lastSplitDate': 1689897600,\n",
       " 'enterpriseToRevenue': 2.507,\n",
       " 'enterpriseToEbitda': 17.613,\n",
       " '52WeekChange': 0.34107387,\n",
       " 'SandP52WeekChange': 0.20374417,\n",
       " 'lastDividendValue': 1.5,\n",
       " 'lastDividendDate': 1689897600,\n",
       " 'exchange': 'TAI',\n",
       " 'quoteType': 'EQUITY',\n",
       " 'symbol': '1104.TW',\n",
       " 'underlyingSymbol': '1104.TW',\n",
       " 'shortName': 'UNIVERSAL CEMENT CORPORATION',\n",
       " 'longName': 'Universal Cement Corporation',\n",
       " 'firstTradeDateEpochUtc': 946947600,\n",
       " 'timeZoneFullName': 'Asia/Taipei',\n",
       " 'timeZoneShortName': 'CST',\n",
       " 'uuid': '95bd3b62-fb4f-3735-bd9c-2dc19e1a6ac6',\n",
       " 'messageBoardId': 'finmb_878684',\n",
       " 'gmtOffSetMilliseconds': 28800000,\n",
       " 'currentPrice': 29.4,\n",
       " 'targetHighPrice': 25.24,\n",
       " 'targetLowPrice': 25.24,\n",
       " 'targetMeanPrice': 25.24,\n",
       " 'targetMedianPrice': 25.24,\n",
       " 'recommendationMean': 1.0,\n",
       " 'recommendationKey': 'strong_buy',\n",
       " 'numberOfAnalystOpinions': 1,\n",
       " 'totalCash': 4191412992,\n",
       " 'totalCashPerShare': 6.226,\n",
       " 'ebitda': 1084477952,\n",
       " 'totalDebt': 2909577984,\n",
       " 'quickRatio': 1.553,\n",
       " 'currentRatio': 1.678,\n",
       " 'totalRevenue': 7619594752,\n",
       " 'debtToEquity': 12.774,\n",
       " 'revenuePerShare': 11.318,\n",
       " 'returnOnAssets': 0.02157,\n",
       " 'returnOnEquity': 0.11946999,\n",
       " 'grossProfits': 1366300000,\n",
       " 'freeCashflow': 626544640,\n",
       " 'operatingCashflow': 1774537984,\n",
       " 'earningsGrowth': 1.328,\n",
       " 'revenueGrowth': 0.05,\n",
       " 'grossMargins': 0.19939,\n",
       " 'ebitdaMargins': 0.14232999,\n",
       " 'operatingMargins': 0.12287,\n",
       " 'financialCurrency': 'TWD',\n",
       " 'trailingPegRatio': None}"
      ]
     },
     "execution_count": 6,
     "metadata": {},
     "output_type": "execute_result"
    }
   ],
   "source": [
    "TW1104.info"
   ]
  },
  {
   "cell_type": "code",
   "execution_count": 7,
   "id": "df669c1c",
   "metadata": {},
   "outputs": [],
   "source": [
    "BS1 = TW1103.balance_sheet"
   ]
  },
  {
   "cell_type": "code",
   "execution_count": 8,
   "id": "041cc028",
   "metadata": {},
   "outputs": [],
   "source": [
    "BS1_q = TW1103.quarterly_balance_sheet"
   ]
  },
  {
   "cell_type": "code",
   "execution_count": 9,
   "id": "9711eaa6",
   "metadata": {},
   "outputs": [],
   "source": [
    "IS1 = TW1103.income_stmt"
   ]
  },
  {
   "cell_type": "code",
   "execution_count": 10,
   "id": "895e1346",
   "metadata": {},
   "outputs": [],
   "source": [
    "IS1_q = TW1103.quarterly_income_stmt"
   ]
  },
  {
   "cell_type": "code",
   "execution_count": 11,
   "id": "0e40ef81",
   "metadata": {},
   "outputs": [],
   "source": [
    "marCap1 = TW1103. info[\"marketCap\"]"
   ]
  },
  {
   "cell_type": "code",
   "execution_count": 31,
   "id": "4dcb4770",
   "metadata": {},
   "outputs": [],
   "source": [
    "A1 = BS1.loc[\"Working Capital\"][\"2022-12-31\"] / BS1.loc[\"Total Assets\"][\"2022-12-31\"]\n",
    "B1 = BS1.loc[\"Retained Earnings\"][\"2022-12-31\"] / BS1.loc[\"Total Assets\"][\"2022-12-31\"]\n",
    "C1 = IS1.loc[\"EBIT\"][\"2022-12-31\"] / BS1.loc[\"Total Assets\"][\"2022-12-31\"]\n",
    "D1 = marCap1 / BS1.loc[\"Total Debt\"][\"2022-12-31\"]\n",
    "E1 = IS1.loc[\"Total Revenue\"][\"2022-12-31\"]  / BS1.loc[\"Total Assets\"][\"2022-12-31\"]"
   ]
  },
  {
   "cell_type": "code",
   "execution_count": 32,
   "id": "9b85c586",
   "metadata": {},
   "outputs": [
    {
     "name": "stdout",
     "output_type": "stream",
     "text": [
      "1103.TW的Z-score為 1.4563832814247766\n"
     ]
    }
   ],
   "source": [
    "Z1 = A1 + B1 + C1 + D1 +E1\n",
    "print(\"1103.TW的Z-score為\",Z1)"
   ]
  },
  {
   "cell_type": "code",
   "execution_count": 15,
   "id": "60aca557",
   "metadata": {},
   "outputs": [],
   "source": [
    "BS2 = TW1103.balance_sheet\n",
    "BS2_q = TW1103.quarterly_balance_sheet\n",
    "IS2 = TW1103.income_stmt\n",
    "IS2_q = TW1103.quarterly_income_stmt"
   ]
  },
  {
   "cell_type": "code",
   "execution_count": 16,
   "id": "8b80a3c3",
   "metadata": {},
   "outputs": [],
   "source": [
    "marCap2 = TW1104. info[\"marketCap\"]"
   ]
  },
  {
   "cell_type": "code",
   "execution_count": 33,
   "id": "f76cf842",
   "metadata": {},
   "outputs": [],
   "source": [
    "A2 = BS2.loc[\"Working Capital\"][\"2022-12-31\"] / BS2.loc[\"Total Assets\"][\"2022-12-31\"]\n",
    "B2 = BS2.loc[\"Retained Earnings\"][\"2022-12-31\"] / BS2.loc[\"Total Assets\"][\"2022-12-31\"]\n",
    "C2 = IS2.loc[\"EBIT\"][\"2022-12-31\"] / BS2.loc[\"Total Assets\"][\"2022-12-31\"]\n",
    "D2 = marCap2 / BS2.loc[\"Total Debt\"][\"2022-12-31\"]\n",
    "E2 = IS2.loc[\"Total Revenue\"][\"2022-12-31\"]  / BS2.loc[\"Total Assets\"][\"2022-12-31\"]"
   ]
  },
  {
   "cell_type": "code",
   "execution_count": 34,
   "id": "fded10b6",
   "metadata": {},
   "outputs": [
    {
     "name": "stdout",
     "output_type": "stream",
     "text": [
      "1104.TW的Z-score為 2.1081729320787024\n"
     ]
    }
   ],
   "source": [
    "Z2 = A2 + B2 + C2 + D2 +E2\n",
    "print(\"1104.TW的Z-score為\",Z2)"
   ]
  },
  {
   "cell_type": "code",
   "execution_count": 19,
   "id": "286f4634",
   "metadata": {},
   "outputs": [
    {
     "name": "stdout",
     "output_type": "stream",
     "text": [
      "[*********************100%%**********************]  2 of 2 completed\n"
     ]
    }
   ],
   "source": [
    "stocks = ['1103.TW', '1104.TW'] \n",
    "data = yf.download(stocks, start=\"2022-01-01\", end=\"2022-12-31\")\n"
   ]
  },
  {
   "cell_type": "code",
   "execution_count": 20,
   "id": "75cd9c7c",
   "metadata": {},
   "outputs": [
    {
     "data": {
      "image/png": "[encoded data removed]",
      "text/plain": [
       "<Figure size 1200x600 with 1 Axes>"
      ]
     },
     "metadata": {},
     "output_type": "display_data"
    }
   ],
   "source": [
    "plt.figure(figsize=(12, 6)) \n",
    "\n",
    "for stock in stocks:\n",
    "    plt.plot(data.index, data['Close'][stock], label=stock)\n",
    "\n",
    "plt.title('Stock Prices')\n",
    "plt.xlabel('Date')\n",
    "plt.ylabel('Close Price (TWD)')\n",
    "plt.legend(loc='upper left')\n",
    "plt.grid(True)\n",
    "plt.show()\n"
   ]
  },
  {
   "cell_type": "code",
   "execution_count": null,
   "id": "e67e8d79",
   "metadata": {},
   "outputs": [],
   "source": []
  }
 ],
 "metadata": {
  "kernelspec": {
   "display_name": "Python 3 (ipykernel)",
   "language": "python",
   "name": "python3"
  },
  "language_info": {
   "codemirror_mode": {
    "name": "ipython",
    "version": 3
   },
   "file_extension": ".py",
   "mimetype": "text/x-python",
   "name": "python",
   "nbconvert_exporter": "python",
   "pygments_lexer": "ipython3",
   "version": "3.11.5"
  }
 },
 "nbformat": 4,
 "nbformat_minor": 5
}
